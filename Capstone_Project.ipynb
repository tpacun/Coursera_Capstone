{
 "cells": [
  {
   "cell_type": "code",
   "execution_count": 1,
   "metadata": {},
   "outputs": [],
   "source": [
    "import pandas as pd"
   ]
  },
  {
   "cell_type": "code",
   "execution_count": 2,
   "metadata": {},
   "outputs": [
    {
     "data": {
      "text/plain": [
       "(25600, 13)"
      ]
     },
     "execution_count": 2,
     "metadata": {},
     "output_type": "execute_result"
    }
   ],
   "source": [
    "df_starbucks = pd.read_csv('directory.csv')\n",
    "df_starbucks.shape"
   ]
  },
  {
   "cell_type": "code",
   "execution_count": 3,
   "metadata": {},
   "outputs": [
    {
     "data": {
      "text/plain": [
       "(13311, 13)"
      ]
     },
     "execution_count": 3,
     "metadata": {},
     "output_type": "execute_result"
    }
   ],
   "source": [
    "df_starbucks = df_starbucks[(df_starbucks['Brand'] == 'Starbucks')]\n",
    "df_starbucks = df_starbucks[df_starbucks['Country'] == 'US'].reset_index(drop=True)\n",
    "df_starbucks.shape"
   ]
  },
  {
   "cell_type": "code",
   "execution_count": 4,
   "metadata": {},
   "outputs": [
    {
     "data": {
      "text/plain": [
       "(26705, 301)"
      ]
     },
     "execution_count": 4,
     "metadata": {},
     "output_type": "execute_result"
    }
   ],
   "source": [
    "df_cityre = pd.read_csv('City_zhvi_uc_sfrcondo_tier_0.33_0.67_sm_sa_mon.csv')\n",
    "df_cityre.shape\n"
   ]
  },
  {
   "cell_type": "code",
   "execution_count": 5,
   "metadata": {},
   "outputs": [
    {
     "data": {
      "text/html": [
       "<div>\n",
       "<style scoped>\n",
       "    .dataframe tbody tr th:only-of-type {\n",
       "        vertical-align: middle;\n",
       "    }\n",
       "\n",
       "    .dataframe tbody tr th {\n",
       "        vertical-align: top;\n",
       "    }\n",
       "\n",
       "    .dataframe thead th {\n",
       "        text-align: right;\n",
       "    }\n",
       "</style>\n",
       "<table border=\"1\" class=\"dataframe\">\n",
       "  <thead>\n",
       "    <tr style=\"text-align: right;\">\n",
       "      <th></th>\n",
       "      <th>RegionID</th>\n",
       "      <th>SizeRank</th>\n",
       "      <th>RegionName</th>\n",
       "      <th>RegionType</th>\n",
       "      <th>StateName</th>\n",
       "      <th>State</th>\n",
       "      <th>Metro</th>\n",
       "      <th>CountyName</th>\n",
       "      <th>1996-01-31</th>\n",
       "      <th>1996-02-29</th>\n",
       "      <th>...</th>\n",
       "      <th>2019-08-31</th>\n",
       "      <th>2019-09-30</th>\n",
       "      <th>2019-10-31</th>\n",
       "      <th>2019-11-30</th>\n",
       "      <th>2019-12-31</th>\n",
       "      <th>2020-01-31</th>\n",
       "      <th>2020-02-29</th>\n",
       "      <th>2020-03-31</th>\n",
       "      <th>2020-04-30</th>\n",
       "      <th>2020-05-31</th>\n",
       "    </tr>\n",
       "  </thead>\n",
       "  <tbody>\n",
       "    <tr>\n",
       "      <th>0</th>\n",
       "      <td>6181</td>\n",
       "      <td>0</td>\n",
       "      <td>New York</td>\n",
       "      <td>City</td>\n",
       "      <td>NY</td>\n",
       "      <td>NY</td>\n",
       "      <td>New York-Newark-Jersey City</td>\n",
       "      <td>Queens County</td>\n",
       "      <td>195870.0</td>\n",
       "      <td>195305.0</td>\n",
       "      <td>...</td>\n",
       "      <td>656637.0</td>\n",
       "      <td>655351.0</td>\n",
       "      <td>654130.0</td>\n",
       "      <td>653072.0</td>\n",
       "      <td>652831.0</td>\n",
       "      <td>653085.0</td>\n",
       "      <td>653094.0</td>\n",
       "      <td>652246.0</td>\n",
       "      <td>652106.0</td>\n",
       "      <td>651485.0</td>\n",
       "    </tr>\n",
       "    <tr>\n",
       "      <th>1</th>\n",
       "      <td>12447</td>\n",
       "      <td>1</td>\n",
       "      <td>Los Angeles</td>\n",
       "      <td>City</td>\n",
       "      <td>CA</td>\n",
       "      <td>CA</td>\n",
       "      <td>Los Angeles-Long Beach-Anaheim</td>\n",
       "      <td>Los Angeles County</td>\n",
       "      <td>186516.0</td>\n",
       "      <td>186493.0</td>\n",
       "      <td>...</td>\n",
       "      <td>722785.0</td>\n",
       "      <td>725378.0</td>\n",
       "      <td>728666.0</td>\n",
       "      <td>731044.0</td>\n",
       "      <td>734746.0</td>\n",
       "      <td>738227.0</td>\n",
       "      <td>743785.0</td>\n",
       "      <td>748836.0</td>\n",
       "      <td>752594.0</td>\n",
       "      <td>752510.0</td>\n",
       "    </tr>\n",
       "    <tr>\n",
       "      <th>2</th>\n",
       "      <td>39051</td>\n",
       "      <td>2</td>\n",
       "      <td>Houston</td>\n",
       "      <td>City</td>\n",
       "      <td>TX</td>\n",
       "      <td>TX</td>\n",
       "      <td>Houston-The Woodlands-Sugar Land</td>\n",
       "      <td>Harris County</td>\n",
       "      <td>94293.0</td>\n",
       "      <td>94409.0</td>\n",
       "      <td>...</td>\n",
       "      <td>189782.0</td>\n",
       "      <td>190184.0</td>\n",
       "      <td>190782.0</td>\n",
       "      <td>191229.0</td>\n",
       "      <td>191748.0</td>\n",
       "      <td>191902.0</td>\n",
       "      <td>192373.0</td>\n",
       "      <td>193260.0</td>\n",
       "      <td>194337.0</td>\n",
       "      <td>195208.0</td>\n",
       "    </tr>\n",
       "    <tr>\n",
       "      <th>3</th>\n",
       "      <td>17426</td>\n",
       "      <td>3</td>\n",
       "      <td>Chicago</td>\n",
       "      <td>City</td>\n",
       "      <td>IL</td>\n",
       "      <td>IL</td>\n",
       "      <td>Chicago-Naperville-Elgin</td>\n",
       "      <td>Cook County</td>\n",
       "      <td>132510.0</td>\n",
       "      <td>132361.0</td>\n",
       "      <td>...</td>\n",
       "      <td>251764.0</td>\n",
       "      <td>251538.0</td>\n",
       "      <td>251343.0</td>\n",
       "      <td>251156.0</td>\n",
       "      <td>251086.0</td>\n",
       "      <td>251261.0</td>\n",
       "      <td>251614.0</td>\n",
       "      <td>252135.0</td>\n",
       "      <td>252342.0</td>\n",
       "      <td>252473.0</td>\n",
       "    </tr>\n",
       "    <tr>\n",
       "      <th>4</th>\n",
       "      <td>6915</td>\n",
       "      <td>4</td>\n",
       "      <td>San Antonio</td>\n",
       "      <td>City</td>\n",
       "      <td>TX</td>\n",
       "      <td>TX</td>\n",
       "      <td>San Antonio-New Braunfels</td>\n",
       "      <td>Bexar County</td>\n",
       "      <td>94895.0</td>\n",
       "      <td>94862.0</td>\n",
       "      <td>...</td>\n",
       "      <td>185743.0</td>\n",
       "      <td>186661.0</td>\n",
       "      <td>187287.0</td>\n",
       "      <td>188003.0</td>\n",
       "      <td>188114.0</td>\n",
       "      <td>188573.0</td>\n",
       "      <td>188630.0</td>\n",
       "      <td>189089.0</td>\n",
       "      <td>189113.0</td>\n",
       "      <td>189246.0</td>\n",
       "    </tr>\n",
       "  </tbody>\n",
       "</table>\n",
       "<p>5 rows × 301 columns</p>\n",
       "</div>"
      ],
      "text/plain": [
       "   RegionID  SizeRank   RegionName RegionType StateName State  \\\n",
       "0      6181         0     New York       City        NY    NY   \n",
       "1     12447         1  Los Angeles       City        CA    CA   \n",
       "2     39051         2      Houston       City        TX    TX   \n",
       "3     17426         3      Chicago       City        IL    IL   \n",
       "4      6915         4  San Antonio       City        TX    TX   \n",
       "\n",
       "                              Metro          CountyName  1996-01-31  \\\n",
       "0       New York-Newark-Jersey City       Queens County    195870.0   \n",
       "1    Los Angeles-Long Beach-Anaheim  Los Angeles County    186516.0   \n",
       "2  Houston-The Woodlands-Sugar Land       Harris County     94293.0   \n",
       "3          Chicago-Naperville-Elgin         Cook County    132510.0   \n",
       "4         San Antonio-New Braunfels        Bexar County     94895.0   \n",
       "\n",
       "   1996-02-29  ...  2019-08-31  2019-09-30  2019-10-31  2019-11-30  \\\n",
       "0    195305.0  ...    656637.0    655351.0    654130.0    653072.0   \n",
       "1    186493.0  ...    722785.0    725378.0    728666.0    731044.0   \n",
       "2     94409.0  ...    189782.0    190184.0    190782.0    191229.0   \n",
       "3    132361.0  ...    251764.0    251538.0    251343.0    251156.0   \n",
       "4     94862.0  ...    185743.0    186661.0    187287.0    188003.0   \n",
       "\n",
       "   2019-12-31  2020-01-31  2020-02-29  2020-03-31  2020-04-30  2020-05-31  \n",
       "0    652831.0    653085.0    653094.0    652246.0    652106.0    651485.0  \n",
       "1    734746.0    738227.0    743785.0    748836.0    752594.0    752510.0  \n",
       "2    191748.0    191902.0    192373.0    193260.0    194337.0    195208.0  \n",
       "3    251086.0    251261.0    251614.0    252135.0    252342.0    252473.0  \n",
       "4    188114.0    188573.0    188630.0    189089.0    189113.0    189246.0  \n",
       "\n",
       "[5 rows x 301 columns]"
      ]
     },
     "execution_count": 5,
     "metadata": {},
     "output_type": "execute_result"
    }
   ],
   "source": [
    "df_city50 = df_cityre[0:50]\n",
    "df_city50.shape\n",
    "df_city50.head()"
   ]
  },
  {
   "cell_type": "code",
   "execution_count": 6,
   "metadata": {},
   "outputs": [
    {
     "data": {
      "text/html": [
       "<div>\n",
       "<style scoped>\n",
       "    .dataframe tbody tr th:only-of-type {\n",
       "        vertical-align: middle;\n",
       "    }\n",
       "\n",
       "    .dataframe tbody tr th {\n",
       "        vertical-align: top;\n",
       "    }\n",
       "\n",
       "    .dataframe thead th {\n",
       "        text-align: right;\n",
       "    }\n",
       "</style>\n",
       "<table border=\"1\" class=\"dataframe\">\n",
       "  <thead>\n",
       "    <tr style=\"text-align: right;\">\n",
       "      <th></th>\n",
       "      <th>RegionName</th>\n",
       "      <th>2017-01-31</th>\n",
       "    </tr>\n",
       "  </thead>\n",
       "  <tbody>\n",
       "    <tr>\n",
       "      <th>0</th>\n",
       "      <td>New York</td>\n",
       "      <td>584490.0</td>\n",
       "    </tr>\n",
       "    <tr>\n",
       "      <th>1</th>\n",
       "      <td>Los Angeles</td>\n",
       "      <td>636974.0</td>\n",
       "    </tr>\n",
       "    <tr>\n",
       "      <th>2</th>\n",
       "      <td>Houston</td>\n",
       "      <td>170083.0</td>\n",
       "    </tr>\n",
       "    <tr>\n",
       "      <th>3</th>\n",
       "      <td>Chicago</td>\n",
       "      <td>233162.0</td>\n",
       "    </tr>\n",
       "    <tr>\n",
       "      <th>4</th>\n",
       "      <td>San Antonio</td>\n",
       "      <td>161663.0</td>\n",
       "    </tr>\n",
       "  </tbody>\n",
       "</table>\n",
       "</div>"
      ],
      "text/plain": [
       "    RegionName  2017-01-31\n",
       "0     New York    584490.0\n",
       "1  Los Angeles    636974.0\n",
       "2      Houston    170083.0\n",
       "3      Chicago    233162.0\n",
       "4  San Antonio    161663.0"
      ]
     },
     "execution_count": 6,
     "metadata": {},
     "output_type": "execute_result"
    }
   ],
   "source": [
    "top50_feat = df_city50[['RegionName', '2017-01-31']]\n",
    "top50_feat.head()"
   ]
  },
  {
   "cell_type": "code",
   "execution_count": 7,
   "metadata": {},
   "outputs": [
    {
     "data": {
      "text/html": [
       "<div>\n",
       "<style scoped>\n",
       "    .dataframe tbody tr th:only-of-type {\n",
       "        vertical-align: middle;\n",
       "    }\n",
       "\n",
       "    .dataframe tbody tr th {\n",
       "        vertical-align: top;\n",
       "    }\n",
       "\n",
       "    .dataframe thead th {\n",
       "        text-align: right;\n",
       "    }\n",
       "</style>\n",
       "<table border=\"1\" class=\"dataframe\">\n",
       "  <thead>\n",
       "    <tr style=\"text-align: right;\">\n",
       "      <th></th>\n",
       "      <th>City</th>\n",
       "      <th>NumStarbucks</th>\n",
       "    </tr>\n",
       "  </thead>\n",
       "  <tbody>\n",
       "    <tr>\n",
       "      <th>0</th>\n",
       "      <td>New York</td>\n",
       "      <td>230</td>\n",
       "    </tr>\n",
       "    <tr>\n",
       "      <th>1</th>\n",
       "      <td>Chicago</td>\n",
       "      <td>179</td>\n",
       "    </tr>\n",
       "    <tr>\n",
       "      <th>2</th>\n",
       "      <td>Las Vegas</td>\n",
       "      <td>153</td>\n",
       "    </tr>\n",
       "    <tr>\n",
       "      <th>3</th>\n",
       "      <td>Seattle</td>\n",
       "      <td>151</td>\n",
       "    </tr>\n",
       "    <tr>\n",
       "      <th>4</th>\n",
       "      <td>Houston</td>\n",
       "      <td>151</td>\n",
       "    </tr>\n",
       "  </tbody>\n",
       "</table>\n",
       "</div>"
      ],
      "text/plain": [
       "        City  NumStarbucks\n",
       "0   New York           230\n",
       "1    Chicago           179\n",
       "2  Las Vegas           153\n",
       "3    Seattle           151\n",
       "4    Houston           151"
      ]
     },
     "execution_count": 7,
     "metadata": {},
     "output_type": "execute_result"
    }
   ],
   "source": [
    "mask = list(df_city50['RegionName'])\n",
    "df_star50 = df_starbucks[df_starbucks['City'].apply(lambda x: True if x in mask else False)]\n",
    "merger = df_star50['City'].value_counts().rename_axis('City').reset_index(name = 'NumStarbucks')\n",
    "merger.head()"
   ]
  },
  {
   "cell_type": "code",
   "execution_count": 8,
   "metadata": {},
   "outputs": [
    {
     "data": {
      "text/html": [
       "<div>\n",
       "<style scoped>\n",
       "    .dataframe tbody tr th:only-of-type {\n",
       "        vertical-align: middle;\n",
       "    }\n",
       "\n",
       "    .dataframe tbody tr th {\n",
       "        vertical-align: top;\n",
       "    }\n",
       "\n",
       "    .dataframe thead th {\n",
       "        text-align: right;\n",
       "    }\n",
       "</style>\n",
       "<table border=\"1\" class=\"dataframe\">\n",
       "  <thead>\n",
       "    <tr style=\"text-align: right;\">\n",
       "      <th></th>\n",
       "      <th>City</th>\n",
       "      <th>NumStarbucks</th>\n",
       "      <th>2017-01-31</th>\n",
       "    </tr>\n",
       "  </thead>\n",
       "  <tbody>\n",
       "    <tr>\n",
       "      <th>0</th>\n",
       "      <td>New York</td>\n",
       "      <td>230</td>\n",
       "      <td>584490.0</td>\n",
       "    </tr>\n",
       "    <tr>\n",
       "      <th>1</th>\n",
       "      <td>Chicago</td>\n",
       "      <td>179</td>\n",
       "      <td>233162.0</td>\n",
       "    </tr>\n",
       "    <tr>\n",
       "      <th>2</th>\n",
       "      <td>Las Vegas</td>\n",
       "      <td>153</td>\n",
       "      <td>217354.0</td>\n",
       "    </tr>\n",
       "    <tr>\n",
       "      <th>3</th>\n",
       "      <td>Seattle</td>\n",
       "      <td>151</td>\n",
       "      <td>637004.0</td>\n",
       "    </tr>\n",
       "    <tr>\n",
       "      <th>4</th>\n",
       "      <td>Houston</td>\n",
       "      <td>151</td>\n",
       "      <td>170083.0</td>\n",
       "    </tr>\n",
       "  </tbody>\n",
       "</table>\n",
       "</div>"
      ],
      "text/plain": [
       "        City  NumStarbucks  2017-01-31\n",
       "0   New York           230    584490.0\n",
       "1    Chicago           179    233162.0\n",
       "2  Las Vegas           153    217354.0\n",
       "3    Seattle           151    637004.0\n",
       "4    Houston           151    170083.0"
      ]
     },
     "execution_count": 8,
     "metadata": {},
     "output_type": "execute_result"
    }
   ],
   "source": [
    "merger = merger.merge(top50_feat, left_on = 'City', right_on = 'RegionName')\n",
    "merger.drop('RegionName', inplace = True, axis = 1)\n",
    "merger.head()"
   ]
  },
  {
   "cell_type": "code",
   "execution_count": 9,
   "metadata": {},
   "outputs": [],
   "source": [
    "import matplotlib.pyplot as plt"
   ]
  },
  {
   "cell_type": "code",
   "execution_count": 10,
   "metadata": {},
   "outputs": [
    {
     "data": {
      "image/png": "[encoded data removed]",
      "text/plain": [
       "<Figure size 432x288 with 1 Axes>"
      ]
     },
     "metadata": {
      "needs_background": "light"
     },
     "output_type": "display_data"
    }
   ],
   "source": [
    "y, x = merger['NumStarbucks'], merger['2017-01-31']\n",
    "\n",
    "plt.clf()\n",
    "plt.scatter(x, y)\n",
    "plt.show()"
   ]
  },
  {
   "cell_type": "code",
   "execution_count": 11,
   "metadata": {
    "scrolled": true
   },
   "outputs": [],
   "source": [
    "# normalize for population (2017 stats jesus christ)\n",
    "\n",
    "# regression? correlation?"
   ]
  },
  {
   "cell_type": "code",
   "execution_count": null,
   "metadata": {},
   "outputs": [],
   "source": []
  },
  {
   "cell_type": "code",
   "execution_count": null,
   "metadata": {},
   "outputs": [],
   "source": [
    "\n"
   ]
  },
  {
   "cell_type": "code",
   "execution_count": null,
   "metadata": {},
   "outputs": [],
   "source": []
  },
  {
   "cell_type": "code",
   "execution_count": null,
   "metadata": {},
   "outputs": [],
   "source": []
  },
  {
   "cell_type": "code",
   "execution_count": null,
   "metadata": {},
   "outputs": [],
   "source": []
  }
 ],
 "metadata": {
  "kernelspec": {
   "display_name": "Python 3",
   "language": "python",
   "name": "python3"
  },
  "language_info": {
   "codemirror_mode": {
    "name": "ipython",
    "version": 3
   },
   "file_extension": ".py",
   "mimetype": "text/x-python",
   "name": "python",
   "nbconvert_exporter": "python",
   "pygments_lexer": "ipython3",
   "version": "3.7.7"
  }
 },
 "nbformat": 4,
 "nbformat_minor": 4
}
